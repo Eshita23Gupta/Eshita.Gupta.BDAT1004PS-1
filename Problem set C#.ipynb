{
 "cells": [
  {
   "cell_type": "markdown",
   "id": "fd99a2d3",
   "metadata": {},
   "source": [
    "## Problem Set 1 C#"
   ]
  },
  {
   "cell_type": "markdown",
   "id": "8c4d839d",
   "metadata": {},
   "source": [
    "#### Question 1"
   ]
  },
  {
   "cell_type": "markdown",
   "id": "a57afa7a",
   "metadata": {},
   "source": [
    "##### Identifying the data type of given expressions"
   ]
  },
  {
   "cell_type": "code",
   "execution_count": 4,
   "id": "4f335acf",
   "metadata": {},
   "outputs": [],
   "source": [
    "using System;\n",
    "internal class Program\n",
    "{\n",
    "   public static void Main()\n",
    "     {\n",
    "       Console.WriteLine(5.GetType());\n",
    "       Console.WriteLine(5.0.GetType());\n",
    "       Console.WriteLine((5>1).GetType());\n",
    "       Console.WriteLine('5'.GetType());\n",
    "       Console.WriteLine((5*2).GetType());\n",
    "       Console.WriteLine(('5'+'2').GetType());\n",
    "       Console.WriteLine((5/2).GetType());\n",
    "       Console.WriteLine((5 % 2).GetType());\n",
    "       Console.WriteLine((5,2,1).GetType());\n",
    "       Console.WriteLine((5==3).GetType());\n",
    "       Console.WriteLine((3.141592653589793238).GetType());\n",
    "    }\n",
    "}"
   ]
  },
  {
   "cell_type": "markdown",
   "id": "6b80038c",
   "metadata": {},
   "source": [
    "#### Question 2"
   ]
  },
  {
   "cell_type": "markdown",
   "id": "35aefc70",
   "metadata": {},
   "source": [
    "#####  C# expressions"
   ]
  },
  {
   "cell_type": "markdown",
   "id": "95a2f5e8",
   "metadata": {},
   "source": [
    "###### How many letters are there in 'Supercalifragilisticexpialidocious'?"
   ]
  },
  {
   "cell_type": "code",
   "execution_count": null,
   "id": "d3a7fef7",
   "metadata": {},
   "outputs": [],
   "source": [
    "using System;\n",
    "internal  class Program\n",
    "{\n",
    "    public static void Main()\n",
    "    {\n",
    "        const string input = \"Supercalifragilisticexpialidocious\";\n",
    "\n",
    "        int result = input.Length;\n",
    "        Console.WriteLine(\"Total number of characters in given string is:\" + result);\n",
    "\n",
    "    }\n",
    "\n",
    "}"
   ]
  },
  {
   "cell_type": "markdown",
   "id": "c4bc1322",
   "metadata": {},
   "source": [
    "###### Does 'Supercalifragilisticexpialidocious' contain 'ice' as a substring"
   ]
  },
  {
   "cell_type": "code",
   "execution_count": null,
   "id": "ad4e661a",
   "metadata": {},
   "outputs": [],
   "source": [
    "using System;\n",
    "internal class Program\n",
    "{\n",
    "    public static void Main()\n",
    "    {\n",
    "        const string input = \"Supercalifragilisticexpialidocious\";\n",
    "\n",
    "        \n",
    "        int result = input.Length;\n",
    "        Console.WriteLine(\"Total number of characters in given string is:\" + result);\n",
    "        checkSubString(input);\n",
    "\n",
    "\n",
    "        void checkSubString(string value)\n",
    "        {\n",
    "            for (int i = 0; i < value.Length; i++)\n",
    "            {\n",
    "                if (value[i] == 'i')\n",
    "                {\n",
    "                    if (value[i + 1] == 'c')\n",
    "                    {\n",
    "                        if (value[i + 2] == 'e')\n",
    "                        {\n",
    "                            Console.WriteLine(\"Yes this string does contains 'ice' substring\");\n",
    "                        }\n",
    "                    }\n",
    "                }\n",
    "            }\n",
    "        }\n",
    "        \n",
    "    }\n",
    "    \n",
    "}"
   ]
  },
  {
   "cell_type": "markdown",
   "id": "7f43131b",
   "metadata": {},
   "source": [
    "###### Finding the longest word"
   ]
  },
  {
   "cell_type": "code",
   "execution_count": null,
   "id": "a2bb1154",
   "metadata": {},
   "outputs": [],
   "source": [
    "using System;\n",
    "internal class Program\n",
    "{\n",
    "    public static void Main()\n",
    "    {\n",
    "        string string1 = \"Supercalifragilisticexpialidocious\";\n",
    "        string string2 = \"Honorificabilitudinitatibus\";\n",
    "        string string3 = \"Bababadalgharaghtakamminarronnkonn\";\n",
    "        compareStrings(string1, string2, string3);\n",
    "\n",
    "        void compareStrings(string input1, string input2, string input3)\n",
    "        {\n",
    "            int[] result = new int[3];\n",
    "            string[] inputs = new string[3];\n",
    "            inputs[0] = input1;\n",
    "            inputs[1] = input2;\n",
    "            inputs[2] = input3;\n",
    "            for (int i = 0; i < 3; i++)\n",
    "            {\n",
    "                result[i] = inputs[i].Length;\n",
    "            }\n",
    "            \n",
    "            //compare the length of strings\n",
    "            if(result[0]>result[1])\n",
    "            {\n",
    "                if (result[0] > result[2])\n",
    "                {\n",
    "                    Console.WriteLine(\"longest string is\"+ string1);\n",
    "                }\n",
    "                else\n",
    "                {\n",
    "                    Console.WriteLine(\"longest string is\" + string3);\n",
    "                }\n",
    "            }\n",
    "            else if(result[1]>result[0])\n",
    "            {\n",
    "                Console.WriteLine(\"longest string is\" + string2);\n",
    "            }\n",
    "\n",
    "            \n",
    "        }\n",
    "            \n",
    "    }\n",
    "}"
   ]
  },
  {
   "cell_type": "markdown",
   "id": "646b689e",
   "metadata": {},
   "source": [
    "###### Finding which composer comes first in the dictionary"
   ]
  },
  {
   "cell_type": "code",
   "execution_count": null,
   "id": "5b4d7def",
   "metadata": {},
   "outputs": [],
   "source": [
    "using System;\n",
    "internal class Program\n",
    "{\n",
    "    public static void Main()\n",
    "    {\n",
    "        string[] dictionary = new string[7];\n",
    "        dictionary[0] = \"Berlioz\";\n",
    "        dictionary[1] = \"Borodin\";\n",
    "        dictionary[2] = \"Brian\";\n",
    "        dictionary[3] = \"Bartok\";\n",
    "        dictionary[4] = \"Bellini\";\n",
    "        dictionary[5] = \"Buxtehude\";\n",
    "        dictionary[6] = \"Bernstein\";\n",
    "        \n",
    "        //Sort the string array\n",
    "        Array.Sort(dictionary);\n",
    "        Console.WriteLine(\"The first composer in dictionary is :\" + dictionary[0]);\n",
    "        Console.WriteLine(\"The last composer in dictionary is :\" + dictionary[6]);\n",
    "\n",
    "\n",
    "    }\n",
    "}"
   ]
  },
  {
   "cell_type": "markdown",
   "id": "e1464ed0",
   "metadata": {},
   "source": [
    "#### Question 3"
   ]
  },
  {
   "cell_type": "markdown",
   "id": "d4b31469",
   "metadata": {},
   "source": [
    "##### By Heron's formula, the area of a triangle with side lengths a, b, and c is s(s - a)(s -b)(s -c), where s = (a+b+c)/2. "
   ]
  },
  {
   "cell_type": "code",
   "execution_count": null,
   "id": "c14c192b",
   "metadata": {},
   "outputs": [],
   "source": [
    "using System;\n",
    "internal class Program\n",
    "{\n",
    "    public static void Main()\n",
    "    {\n",
    "        float a,b,c;\n",
    "        Console.Write(\"Input First side of triangle:\");\n",
    "        a = float.Parse(Console.ReadLine());\n",
    "        Console.Write(\"Input Second side of triangle:\");\n",
    "        b = float.Parse(Console.ReadLine());\n",
    "        Console.Write(\"Input third side of triangle:\");\n",
    "        c = float.Parse(Console.ReadLine());\n",
    "\n",
    "        Console.Write(\"Area is \" + findArea(a, b, c));\n",
    "    }\n",
    "\n",
    "\n",
    "    static float findArea(float a, float b, float c)\n",
    "    {\n",
    "        //We check if the it's a valid triangle by \n",
    "        //checking the relation between lengths of sides\n",
    "        if (a < 0 || b < 0 || c < 0 ||\n",
    "        (a + b <= c) || a + c <= b ||\n",
    "        b + c <= a)\n",
    "        {\n",
    "            Console.Write(\"Not a valid triangle\");\n",
    "        }\n",
    "        float s = (a + b + c) / 2;\n",
    "        return (float)Math.Sqrt(s * (s - a) *\n",
    "                            (s - b) * (s - c));\n",
    "    }\n",
    "}\n"
   ]
  },
  {
   "cell_type": "markdown",
   "id": "6e1847b3",
   "metadata": {},
   "source": [
    "#### Question 4"
   ]
  },
  {
   "cell_type": "markdown",
   "id": "bd2f1ba2",
   "metadata": {},
   "source": [
    "##### separate odd and even integers in separate arrays"
   ]
  },
  {
   "cell_type": "code",
   "execution_count": null,
   "id": "7ec7c928",
   "metadata": {},
   "outputs": [],
   "source": [
    "using System;\n",
    "\n",
    "internal class Program\n",
    "{\n",
    "    public static void Main(string[] args)\n",
    "    {\n",
    "        int a = 0;\n",
    "        int b = 0;\n",
    "        int n;\n",
    "        Console.WriteLine(\"Enter Number of elements to be stored in an Array:\");\n",
    "        n = int.Parse(Console.ReadLine());\n",
    "        int[] even = new int[n];\n",
    "        int[] odd = new int[n];\n",
    "\n",
    "        int[] array = new int[n];\n",
    "        Console.WriteLine(\"Input {0} number of elements\", n);\n",
    "        for (int i = 0; i < array.Length; i++)\n",
    "        {\n",
    "            Console.WriteLine(\"Element {0}\", i + 1);\n",
    "            array[i] = int.Parse(Console.ReadLine());\n",
    "        }\n",
    "\n",
    "        for (int i = 1; i <= array.Length; i++)\n",
    "        {\n",
    "\n",
    "            if (array[i-1] % 2 == 0)\n",
    "            {\n",
    "                    even[a] = array[i-1];\n",
    "                    a++;\n",
    "            }\n",
    "            else\n",
    "            {\n",
    "\n",
    "                    odd[b] = array[i-1];\n",
    "                b++;\n",
    "\n",
    "            }\n",
    "        }\n",
    "\n",
    "        Console.WriteLine(\"Even Elements are:\");\n",
    "        for (int i=0;i<a; i++)\n",
    "        {\n",
    "            Console.Write(even[i] +\"\\n\");\n",
    "        }\n",
    "        Console.WriteLine(\"Odd Elements are:\");\n",
    "        for (int i = 0; i <b; i++)\n",
    "        {\n",
    "            Console.Write(odd[i] + \"\\n\");\n",
    "        }\n",
    "    }\n",
    "}"
   ]
  },
  {
   "cell_type": "markdown",
   "id": "c9a4df29",
   "metadata": {},
   "source": [
    "#### Question 5"
   ]
  },
  {
   "cell_type": "markdown",
   "id": "622a83a3",
   "metadata": {},
   "source": [
    "##### returns True or False depending on whether the point (x,y) lies in the rectangle with lower left corner (x1,y1) and upper right corner (x2,y2)"
   ]
  },
  {
   "cell_type": "code",
   "execution_count": null,
   "id": "06f7e583",
   "metadata": {},
   "outputs": [],
   "source": [
    "using System;\n",
    "class Program\n",
    "{\n",
    "    public static void Main()\n",
    "    {\n",
    "        // bottom-left and top-right\n",
    "        // corners of rectangle\n",
    "        Console.WriteLine(\"Input the points of rectangle\");\n",
    "        int x1, y1, x2, y2;\n",
    "        Console.WriteLine(\"Enter x value of lower left point\");\n",
    "        x1 = int.Parse(Console.ReadLine());\n",
    "        Console.WriteLine(\"Enter y value of lower left point\");\n",
    "        y1 = int.Parse(Console.ReadLine());\n",
    "\n",
    "        Console.WriteLine(\"Enter x value of upper right point\");\n",
    "        x2 = int.Parse(Console.ReadLine());\n",
    "        Console.WriteLine(\"Enter y value of upper right point\");\n",
    "        y2 = int.Parse(Console.ReadLine());\n",
    "\n",
    "        //point we want to check whether we it is inside \n",
    "        Console.WriteLine(\"Input the point to check if it lies inside the rectangle\");\n",
    "        Console.WriteLine(\"Enter x value of point\");\n",
    "        int x = int.Parse(Console.ReadLine());\n",
    "        Console.WriteLine(\"Enter y value of point\");\n",
    "        int y = int.Parse(Console.ReadLine());\n",
    "\n",
    "        // function call\n",
    "        if (inside(x1, y1, x2, y2, x, y))\n",
    "            Console.WriteLine(\"True\");\n",
    "        else\n",
    "            Console.WriteLine(\"False\");\n",
    "    }\n",
    "    static bool inside(int x1, int y1, int x2,\n",
    "                      int y2, int x, int y)\n",
    "    {\n",
    "        if (x > x1 && x < x2 &&\n",
    "            y > y1 && y < y2)\n",
    "            return true;\n",
    "\n",
    "        return false;\n",
    "    }\n",
    "\n",
    "}"
   ]
  },
  {
   "cell_type": "markdown",
   "id": "65d19850",
   "metadata": {},
   "source": [
    "#####  write an expression that tests whether the point (1,1) lies in both of the following rectangles"
   ]
  },
  {
   "cell_type": "code",
   "execution_count": null,
   "id": "01b4eccc",
   "metadata": {},
   "outputs": [],
   "source": [
    "using System;\n",
    "class Program\n",
    "{\n",
    "    public static void Main()\n",
    "    {\n",
    "        inside(0.3, 0.5, 1.1, 0.7, 1, 1)\n",
    "        inside(0.5, 0.2, 1.1, 2, 1, 1)\n",
    "        \n",
    "        // function call\n",
    "        if (inside(x1, y1, x2, y2, 1, 1))\n",
    "            Console.WriteLine(\"True\");\n",
    "        else\n",
    "            Console.WriteLine(\"False\");\n",
    "    }\n",
    "    static bool inside(int x1, int y1, int x2,\n",
    "                      int y2, int x, int y)\n",
    "    {\n",
    "        if (x > x1 && x < x2 &&\n",
    "            y > y1 && y < y2)\n",
    "            return true;\n",
    "\n",
    "        return false;\n",
    "    }\n",
    "\n",
    "}"
   ]
  }
 ],
 "metadata": {
  "kernelspec": {
   "display_name": ".NET (C#)",
   "language": "C#",
   "name": ".net-csharp"
  },
  "language_info": {
   "file_extension": ".cs",
   "mimetype": "text/x-csharp",
   "name": "C#",
   "pygments_lexer": "csharp",
   "version": "8.0"
  }
 },
 "nbformat": 4,
 "nbformat_minor": 5
}
