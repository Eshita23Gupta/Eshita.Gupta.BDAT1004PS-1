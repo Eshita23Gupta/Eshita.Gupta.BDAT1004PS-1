{
 "cells": [
  {
   "cell_type": "markdown",
   "id": "3f70ba51",
   "metadata": {},
   "source": [
    "## Problem Set 1 Python "
   ]
  },
  {
   "cell_type": "markdown",
   "id": "65b60a5b",
   "metadata": {},
   "source": [
    "#### Question 6 "
   ]
  },
  {
   "cell_type": "markdown",
   "id": "72a9a933",
   "metadata": {},
   "source": [
    "##### turn a word into pig-Latin using two rules"
   ]
  },
  {
   "cell_type": "code",
   "execution_count": 5,
   "id": "13200ebb",
   "metadata": {},
   "outputs": [
    {
     "name": "stdout",
     "output_type": "stream",
     "text": [
      "appyhay\n",
      "enterway\n"
     ]
    }
   ],
   "source": [
    "def pig(text):\n",
    "  say = []\n",
    "\n",
    "  # Separate the text into words  \n",
    "  words = text.split()\n",
    "  for word in words:\n",
    "  \n",
    "    #check if the word start with vowel\n",
    "    if(word[0] == 'a' or word[0] == 'e' or word[0] == 'i' or word[0] == 'o' or word[0] == 'u'):\n",
    "    \n",
    "         # Create the pig latin word with vowel rule and add it to the list\n",
    "        word =  word[0] + word[1:] + \"way\"\n",
    "        say.append(word)\n",
    "    \n",
    "    else:\n",
    "        # Create the pig latin word with consonent rule and add it to the list\n",
    "        word = word[1:] + word[0] + \"ay\"\n",
    "        say.append(word)\n",
    "\n",
    "  # Turn the list back into a phrase\n",
    "  return \" \".join(say)\n",
    "\n",
    "\n",
    "print(pig(\"happy\")) # Should be 'appyhay'\n",
    "\n",
    "print(pig(\"enter\")) # Should be 'enterway' \n"
   ]
  },
  {
   "cell_type": "markdown",
   "id": "e66b8277",
   "metadata": {},
   "source": [
    "#### Question 7 "
   ]
  },
  {
   "cell_type": "markdown",
   "id": "4b66e7a4",
   "metadata": {},
   "source": [
    "##### reads the file  and reports how many patients there are in each bloodtype"
   ]
  },
  {
   "cell_type": "code",
   "execution_count": 58,
   "id": "19242080",
   "metadata": {},
   "outputs": [
    {
     "name": "stdout",
     "output_type": "stream",
     "text": [
      "AB AB B O A A AB O AB A O O A A A O O O AB O A A A A A AB AB A AB O AB O A O O O AB O AB AB AB A A O \n",
      "\n",
      "There are 13 patients of blood type AB\n",
      "There are 15 patients of blood type A\n",
      "There are 1 patients of blood type B\n",
      "There are 15 patients of blood type O\n",
      "There are 0 patients of blood type OO\n"
     ]
    }
   ],
   "source": [
    "f = open('F:\\BDAT\\Data programming\\\\7535523.txt','r')\n",
    "bloodTypes = f.read()\n",
    "\n",
    "##printing the contents of file\n",
    "print(bloodTypes)\n",
    "\n",
    "##function call\n",
    "bldcount(bloodTypes)\n",
    "\n",
    "##defining function\n",
    "def bldcount(values):\n",
    "    reports = values.split()\n",
    "    \n",
    "    countAB = countA = countB = countO = countOO = 0\n",
    "    \n",
    "    for report in reports:\n",
    "        if(report == 'AB'):\n",
    "            countAB = countAB+1\n",
    "        elif(report == 'A'):\n",
    "                countA = countA+1\n",
    "        elif(report == 'B'):\n",
    "            countB = countB+1\n",
    "        elif(report == 'O'):\n",
    "            countO = countO+1\n",
    "        else:\n",
    "            countOO = countOO+1 \n",
    "                        \n",
    "    print(\"There are %d patients of blood type AB\"%countAB)\n",
    "    print(\"There are %d patients of blood type A\"%countA) \n",
    "    print(\"There are %d patients of blood type B\"%countB) \n",
    "    print(\"There are %d patients of blood type O\"%countO) \n",
    "    print(\"There are %d patients of blood type OO\"%countOO) "
   ]
  },
  {
   "cell_type": "markdown",
   "id": "6ec5bd73",
   "metadata": {},
   "source": [
    "#### Question 8"
   ]
  },
  {
   "cell_type": "markdown",
   "id": "238d3ee1",
   "metadata": {},
   "source": [
    "##### converts and returns the amount in US dollars"
   ]
  },
  {
   "cell_type": "code",
   "execution_count": 62,
   "id": "69624f96",
   "metadata": {},
   "outputs": [
    {
     "name": "stdout",
     "output_type": "stream",
     "text": [
      "Please choose which currency you want to convert:\n",
      "122.96544\n",
      "1.241401\n"
     ]
    }
   ],
   "source": [
    "print(\"Please choose which currency you want to convert:\")\n",
    "\n",
    "## assigning the exchange rate to currency codes\n",
    "AUD = 1.0345157\n",
    "CHF = 1.0237414\n",
    "CNY = 0.1550176\n",
    "DKK = 0.1651442\n",
    "EUR = 1.2296544\n",
    "GBP = 1.5550989\n",
    "HKD = 0.1270207\n",
    "INR = 0.0177643\n",
    "JPY = 0.01241401\n",
    "MXN = 0.0751848\n",
    "MYR = 0.3145411\n",
    "NOK = 0.1677063\n",
    "NZD = 0.8003591\n",
    "PHP = 0.0233234\n",
    "SEK = 0.148269\n",
    "SGD = 0.788871\n",
    "THB = 0.0313789\n",
    "\n",
    "## defining the function\n",
    "def curconv(code,amount):\n",
    "    usDollar =  code*amount \n",
    "    \n",
    "    print(usDollar)\n",
    "\n",
    "## input the currency code and the amount of currency you want to convert in USD\n",
    "## fucntion call\n",
    "curconv(EUR,100)\n",
    "curconv(JPY,100)\n"
   ]
  },
  {
   "cell_type": "markdown",
   "id": "83665d80",
   "metadata": {},
   "source": [
    "#### Question 9 "
   ]
  },
  {
   "cell_type": "markdown",
   "id": "ff54b0a4",
   "metadata": {},
   "source": [
    "##### Identifying the type of exception each will cause"
   ]
  },
  {
   "cell_type": "code",
   "execution_count": 2,
   "id": "42d541e7",
   "metadata": {
    "scrolled": true
   },
   "outputs": [
    {
     "ename": "SyntaxError",
     "evalue": "invalid character '‘' (U+2018) (Temp/ipykernel_23484/51415921.py, line 1)",
     "output_type": "error",
     "traceback": [
      "\u001b[1;36m  File \u001b[1;32m\"C:\\Users\\hp\\AppData\\Local\\Temp/ipykernel_23484/51415921.py\"\u001b[1;36m, line \u001b[1;32m1\u001b[0m\n\u001b[1;33m    6 + ‘a’\u001b[0m\n\u001b[1;37m        ^\u001b[0m\n\u001b[1;31mSyntaxError\u001b[0m\u001b[1;31m:\u001b[0m invalid character '‘' (U+2018)\n"
     ]
    }
   ],
   "source": [
    "6 + ‘a’"
   ]
  },
  {
   "cell_type": "code",
   "execution_count": 6,
   "id": "0976edb4",
   "metadata": {},
   "outputs": [
    {
     "ename": "IndexError",
     "evalue": "list index out of range",
     "output_type": "error",
     "traceback": [
      "\u001b[1;31m---------------------------------------------------------------------------\u001b[0m",
      "\u001b[1;31mIndexError\u001b[0m                                Traceback (most recent call last)",
      "\u001b[1;32m~\\AppData\\Local\\Temp/ipykernel_10784/3410956010.py\u001b[0m in \u001b[0;36m<module>\u001b[1;34m\u001b[0m\n\u001b[0;32m      1\u001b[0m \u001b[0mmy_list\u001b[0m \u001b[1;33m=\u001b[0m \u001b[1;33m[\u001b[0m\u001b[1;36m1\u001b[0m\u001b[1;33m,\u001b[0m\u001b[1;36m2\u001b[0m\u001b[1;33m,\u001b[0m\u001b[1;36m3\u001b[0m\u001b[1;33m,\u001b[0m\u001b[1;36m4\u001b[0m\u001b[1;33m,\u001b[0m\u001b[1;36m5\u001b[0m\u001b[1;33m,\u001b[0m\u001b[1;36m6\u001b[0m\u001b[1;33m,\u001b[0m\u001b[1;36m7\u001b[0m\u001b[1;33m,\u001b[0m\u001b[1;36m8\u001b[0m\u001b[1;33m,\u001b[0m\u001b[1;36m9\u001b[0m\u001b[1;33m,\u001b[0m\u001b[1;36m10\u001b[0m\u001b[1;33m]\u001b[0m\u001b[1;33m\u001b[0m\u001b[1;33m\u001b[0m\u001b[0m\n\u001b[1;32m----> 2\u001b[1;33m \u001b[0mprint\u001b[0m\u001b[1;33m(\u001b[0m\u001b[0mmy_list\u001b[0m\u001b[1;33m[\u001b[0m\u001b[1;36m12\u001b[0m\u001b[1;33m]\u001b[0m\u001b[1;33m)\u001b[0m\u001b[1;33m\u001b[0m\u001b[1;33m\u001b[0m\u001b[0m\n\u001b[0m",
      "\u001b[1;31mIndexError\u001b[0m: list index out of range"
     ]
    }
   ],
   "source": [
    "my_list = [1,2,3,4,5,6,7,8,9,10]\n",
    "print(my_list[12])"
   ]
  },
  {
   "cell_type": "code",
   "execution_count": 8,
   "id": "7585e05e",
   "metadata": {},
   "outputs": [
    {
     "ename": "ValueError",
     "evalue": "math domain error",
     "output_type": "error",
     "traceback": [
      "\u001b[1;31m---------------------------------------------------------------------------\u001b[0m",
      "\u001b[1;31mValueError\u001b[0m                                Traceback (most recent call last)",
      "\u001b[1;32m~\\AppData\\Local\\Temp/ipykernel_10784/1114391229.py\u001b[0m in \u001b[0;36m<module>\u001b[1;34m\u001b[0m\n\u001b[0;32m      1\u001b[0m \u001b[1;32mimport\u001b[0m \u001b[0mmath\u001b[0m\u001b[1;33m\u001b[0m\u001b[1;33m\u001b[0m\u001b[0m\n\u001b[1;32m----> 2\u001b[1;33m \u001b[0mmath\u001b[0m\u001b[1;33m.\u001b[0m\u001b[0msqrt\u001b[0m\u001b[1;33m(\u001b[0m\u001b[1;33m-\u001b[0m\u001b[1;36m1.0\u001b[0m\u001b[1;33m)\u001b[0m\u001b[1;33m\u001b[0m\u001b[1;33m\u001b[0m\u001b[0m\n\u001b[0m",
      "\u001b[1;31mValueError\u001b[0m: math domain error"
     ]
    }
   ],
   "source": [
    "import math\n",
    "math.sqrt(-1.0)"
   ]
  },
  {
   "cell_type": "code",
   "execution_count": 9,
   "id": "5c93bcaf",
   "metadata": {},
   "outputs": [
    {
     "ename": "NameError",
     "evalue": "name 'x' is not defined",
     "output_type": "error",
     "traceback": [
      "\u001b[1;31m---------------------------------------------------------------------------\u001b[0m",
      "\u001b[1;31mNameError\u001b[0m                                 Traceback (most recent call last)",
      "\u001b[1;32m~\\AppData\\Local\\Temp/ipykernel_10784/1353120783.py\u001b[0m in \u001b[0;36m<module>\u001b[1;34m\u001b[0m\n\u001b[1;32m----> 1\u001b[1;33m \u001b[0mprint\u001b[0m\u001b[1;33m(\u001b[0m\u001b[0mx\u001b[0m\u001b[1;33m)\u001b[0m\u001b[1;33m\u001b[0m\u001b[1;33m\u001b[0m\u001b[0m\n\u001b[0m",
      "\u001b[1;31mNameError\u001b[0m: name 'x' is not defined"
     ]
    }
   ],
   "source": [
    "print(x)"
   ]
  },
  {
   "cell_type": "code",
   "execution_count": 10,
   "id": "4f0b07f0",
   "metadata": {},
   "outputs": [
    {
     "ename": "FileNotFoundError",
     "evalue": "[Errno 2] No such file or directory: 'test.txt'",
     "output_type": "error",
     "traceback": [
      "\u001b[1;31m---------------------------------------------------------------------------\u001b[0m",
      "\u001b[1;31mFileNotFoundError\u001b[0m                         Traceback (most recent call last)",
      "\u001b[1;32m~\\AppData\\Local\\Temp/ipykernel_10784/2159030510.py\u001b[0m in \u001b[0;36m<module>\u001b[1;34m\u001b[0m\n\u001b[1;32m----> 1\u001b[1;33m \u001b[0mf\u001b[0m \u001b[1;33m=\u001b[0m \u001b[0mopen\u001b[0m\u001b[1;33m(\u001b[0m\u001b[1;34m\"test.txt\"\u001b[0m\u001b[1;33m)\u001b[0m\u001b[1;33m\u001b[0m\u001b[1;33m\u001b[0m\u001b[0m\n\u001b[0m",
      "\u001b[1;31mFileNotFoundError\u001b[0m: [Errno 2] No such file or directory: 'test.txt'"
     ]
    }
   ],
   "source": [
    "f = open(\"test.txt\")"
   ]
  },
  {
   "cell_type": "markdown",
   "id": "4ede5568",
   "metadata": {},
   "source": [
    "#### Question 10"
   ]
  },
  {
   "cell_type": "markdown",
   "id": "dbf02660",
   "metadata": {},
   "source": [
    "##### function called frequencies() takes a string as its only parameter, and returns a list of integers, showing the number of times each character appears in the text"
   ]
  },
  {
   "cell_type": "code",
   "execution_count": 31,
   "id": "7d10bc99",
   "metadata": {},
   "outputs": [
    {
     "name": "stdout",
     "output_type": "stream",
     "text": [
      "Count of all characters in The quick red fox got bored and went home. is :\n",
      " {'T': 1, 'h': 2, 'e': 5, ' ': 8, 'q': 1, 'u': 1, 'i': 1, 'c': 1, 'k': 1, 'r': 2, 'd': 3, 'f': 1, 'o': 4, 'x': 1, 'g': 1, 't': 2, 'b': 1, 'a': 1, 'n': 2, 'w': 1, 'm': 1, '.': 1}\n"
     ]
    }
   ],
   "source": [
    "# defining a fuction that takes a string as its only parameter, \n",
    "# and returns a list of integers, showing the\n",
    "# number of times each character appears in the text.\n",
    "def frequencies(str):\n",
    "    all_freq = {}\n",
    "\n",
    "    for i in str:\n",
    "        if i in all_freq:\n",
    "            all_freq[i] += 1\n",
    "        else:\n",
    "            all_freq[i] = 1\n",
    "            # printing result\n",
    "print (\"Count of all characters in %s is :\\n %s\"\n",
    "     %(str1,str(all_freq) ))\n",
    "\n",
    "\n",
    "# initializing string\n",
    "str1 = \"The quick red fox got bored and went home.\"\n",
    "\n",
    "#function call\n",
    "frequencies(str1)"
   ]
  }
 ],
 "metadata": {
  "kernelspec": {
   "display_name": "Python 3 (ipykernel)",
   "language": "python",
   "name": "python3"
  },
  "language_info": {
   "codemirror_mode": {
    "name": "ipython",
    "version": 3
   },
   "file_extension": ".py",
   "mimetype": "text/x-python",
   "name": "python",
   "nbconvert_exporter": "python",
   "pygments_lexer": "ipython3",
   "version": "3.9.7"
  }
 },
 "nbformat": 4,
 "nbformat_minor": 5
}
